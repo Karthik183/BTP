{
 "cells": [
  {
   "cell_type": "code",
   "execution_count": 1,
   "metadata": {
    "collapsed": true
   },
   "outputs": [],
   "source": [
    "import os\n",
    "import numpy as np\n",
    "import cv2"
   ]
   
  },
  {
   "cell_type": "code",
   "execution_count": 2,
   "metadata": {
    "collapsed": true
   },
   "outputs": [],
   "source": [
    "forg_folder = 'CEDAR_database/full_forg/'\n",
    "org_folder = 'CEDAR_database/full_org/'\n",
    "all_forg = os.listdir(forg_folder)\n",
    "all_org = os.listdir(org_folder)"
   ]
  },
  {
   "cell_type": "code",
   "execution_count": 3,
   "metadata": {},
   "outputs": [],
   "source": [
    "data = []\n",
    "labels = []\n",
    "    \n",
    "for i in all_org:\n",
    "    curr_img = cv2.imread(org_folder + i, 0)\n",
    "    curr_img = cv2.resize(curr_img,(240, 160),interpolation=cv2.INTER_AREA)\n",
    "    if i[10] == '_':\n",
    "        class_pres = int(i[9:10])\n",
    "    else:\n",
    "        class_pres = int(i[9:11])\n",
    "    labels.append(class_pres)\n",
    "    data.append(curr_img)\n",
    "    \n",
    "for i in all_forg:\n",
    "    curr_img = cv2.imread(forg_folder + i, 0)\n",
    "    curr_img = cv2.resize(curr_img,(240, 160),interpolation=cv2.INTER_AREA)\n",
    "    if i[11] == '_':\n",
    "        class_pres = int(i[10:11]) + 56\n",
    "    else:\n",
    "        class_pres = int(i[10:12]) + 56\n",
    "    labels.append(class_pres)\n",
    "    data.append(curr_img)\n"
   ]
  },
  {
   "cell_type": "code",
   "execution_count": 4,
   "metadata": {},
   "outputs": [],
   "source": [
    "labels = np.array(labels)\n",
    "data = np.array(data)"
   ]
  },
  {
   "cell_type": "code",
   "execution_count": 5,
   "metadata": {},
   "outputs": [
    {
     "data": {
      "text/plain": [
       "(2640, 160, 240)"
      ]
     },
     "execution_count": 5,
     "metadata": {},
     "output_type": "execute_result"
    }
   ],
   "source": [
    "data.shape"
   ]
  },
  {
   "cell_type": "code",
   "execution_count": 6,
   "metadata": {},
   "outputs": [
    {
     "data": {
      
      "text/plain": [
       "(2640,)"
      ]
     },
     "execution_count": 6,
     "metadata": {},
     "output_type": "execute_result"
    }
   ],
   "source": [
    "labels.shape"
   ]
  },
  {
   "cell_type": "code",
   "execution_count": 7,
   "metadata": {},
   "outputs": [
    {
     "data": {
      "text/plain": [
       "array([10, 10, 10, ..., 65, 65, 65])"
      ]
     },
     "execution_count": 7,
     "metadata": {},
     "output_type": "execute_result"
    }
   ],
   "source": [
    "labels"
   ]
  },
  {
   "cell_type": "code",
   "execution_count": 8,
   "metadata": {},
   "outputs": [
    {
     "data": {
      "text/plain": [
       "(2640, 160, 240, 1)"
      ]
     },
     "execution_count": 8,
     "metadata": {},
     "output_type": "execute_result"
    }
   ],
   "source": [
    "from numpy import newaxis\n",
    "data = data[:,:,:,newaxis]\n",
    "data.shape"
   ]
  },
  {
   "cell_type": "code",
   "execution_count": 9,
   "metadata": {},
   "outputs": [
    {
     "name": "stderr",
     "output_type": "stream",
     "text": [
      "c:\\programdata\\anaconda3\\envs\\tensorflow-gpu\\lib\\site-packages\\sklearn\\cross_validation.py:44: DeprecationWarning: This module was deprecated in version 0.18 in favor of the model_selection module into which all the refactored classes and functions are moved. Also note that the interface of the new CV iterators are different from that of this module. This module will be removed in 0.20.\n",
      "  \"This module will be removed in 0.20.\", DeprecationWarning)\n",
      "Using TensorFlow backend.\n"
     ]
    }
   ],
   "source": [
    "from sklearn.cross_validation import train_test_split\n",
    "from keras.utils import np_utils"
   ]
  },
  {
   
   
   "cell_type": "code",
   "execution_count": 10,
   "metadata": {
    "collapsed": true
   },
   "outputs": [],
   "source": [
    "X_train,X_test,y_train,y_test = train_test_split(data, labels, test_size=0.125)"
   ]
  },
  {
   "cell_type": "code",
   "execution_count": 11,
   "metadata": {
    "collapsed": true
   },
   "outputs": [],
   "source": [
    "# normalizing dataset\n",
    "X_train = X_train / 255\n",
    "X_test = X_test / 255"
   ]
  },
  {
   "cell_type": "code",
   "execution_count": 12,
   "metadata": {},
   "outputs": [
    {
     "data": {
      "text/plain": [
       "112"
      ]
     },
     "execution_count": 12,
     "metadata": {},
     "output_type": "execute_result"
    }
   ],
   "source": [
    "# one hot encode outputs\n",
    "y_train = np_utils.to_categorical(y_train)\n",
    "y_test = np_utils.to_categorical(y_test)\n",
    "#checking total classes\n",
    "y_test.shape[1]"
   ]
  },
  {
   "cell_type": "code",
   "execution_count": 13,
   "metadata": {},
   "outputs": [
    {
     "data": {
      "text/plain": [
       "2310"
      ]
     },
     "execution_count": 13,
     "metadata": {},
     "output_type": "execute_result"
    }
   ],
   "source": [
    "X_train.shape[0]"
   ]
  },
  {
   "cell_type": "code",
   "execution_count": 14,
   "metadata": {
    "collapsed": true
   },
   "outputs": [],
   "source": [
    "#importing modules for NN creation\n",
    "from keras.models import Sequential\n",
    "from keras.layers import Dense, Activation, Dropout, Flatten\n",
    "from keras.layers.convolutional import Conv2D\n",
    "from keras.layers.pooling import MaxPooling2D\n",
    "from keras.optimizers import SGD"
   ]
  },
  {
   "cell_type": "code",
   "execution_count": 17,
   "metadata": {
    "collapsed": true
   },
   "outputs": [],
   "source": [
    "def make_model():\n",
    "    model = Sequential()\n",
    "    model.add(Conv2D(filters=8,kernel_size=(5,5),input_shape=(160,240,1),activation='relu'))\n",
    "    model.add(MaxPooling2D(pool_size=(2,2)))\n",
    "    model.add(Conv2D(filters=16,kernel_size=(5,5),activation='relu'))\n",
    "    model.add(MaxPooling2D(pool_size=(2,2)))\n",
    "    model.add(Conv2D(filters=8,kernel_size=(5,5),activation='relu'))\n",
    "    model.add(MaxPooling2D(pool_size=(2,2)))\n",
    "    model.add(Flatten())\n",
    "    model.add(Dense(units=128,activation='relu'))\n",
    "    model.add(Dense(units=64,activation='relu'))\n",
    "    model.add(Dense(units=112,activation='softmax'))\n",
    "    model.compile(optimizer='sgd',loss='categorical_crossentropy',metrics=['accuracy'])\n",
    "    return model"
   ]
  },
  {
   "cell_type": "code",
   "execution_count": 18,
   "metadata": {},
   "outputs": [
    {
     "name": "stdout",
     "output_type": "stream",
     "text": [
      "Train on 2310 samples, validate on 330 samples\n",
      "Epoch 1/40\n",
      "2310/2310 [==============================] - 86s - loss: 4.7192 - acc: 0.0061 - val_loss: 4.7203 - val_acc: 0.0000e+00\n",
      "Epoch 2/40\n",
      "2310/2310 [==============================] - 32s - loss: 4.7152 - acc: 0.0165 - val_loss: 4.7221 - val_acc: 0.0091\n",
      "Epoch 3/40\n",
      "2310/2310 [==============================] - 33s - loss: 4.7039 - acc: 0.0165 - val_loss: 4.7107 - val_acc: 0.0061\n",
      "Epoch 4/40\n",
      "2310/2310 [==============================] - 31s - loss: 4.6463 - acc: 0.0320 - val_loss: 4.5783 - val_acc: 0.0394\n",
      "Epoch 5/40\n",
      "2310/2310 [==============================] - 34s - loss: 4.5076 - acc: 0.0567 - val_loss: 4.7247 - val_acc: 0.0061\n",
      "Epoch 6/40\n",
      "2310/2310 [==============================] - 31s - loss: 4.4901 - acc: 0.0589 - val_loss: 4.7288 - val_acc: 0.0091\n",
      "Epoch 7/40\n",
      "2310/2310 [==============================] - 32s - loss: 4.7166 - acc: 0.0082 - val_loss: 4.7246 - val_acc: 0.0030\n",
      "Epoch 8/40\n",
      "2310/2310 [==============================] - 31s - loss: 4.7136 - acc: 0.0100 - val_loss: 4.7298 - val_acc: 0.0030\n",
      "Epoch 9/40\n",
      "2310/2310 [==============================] - 32s - loss: 4.7129 - acc: 0.0078 - val_loss: 4.7306 - val_acc: 0.0030\n",
      "Epoch 10/40\n",
      "2310/2310 [==============================] - 32s - loss: 4.2784 - acc: 0.0810 - val_loss: 3.5273 - val_acc: 0.1939\n",
      "Epoch 11/40\n",
      "2310/2310 [==============================] - 35s - loss: 2.6368 - acc: 0.3489 - val_loss: 2.3402 - val_acc: 0.4091\n",
      "Epoch 12/40\n",
      "2310/2310 [==============================] - 31s - loss: 1.6455 - acc: 0.5576 - val_loss: 1.9978 - val_acc: 0.4727\n",
      "Epoch 13/40\n",
      "2310/2310 [==============================] - 32s - loss: 1.1256 - acc: 0.6948 - val_loss: 1.4329 - val_acc: 0.6061\n",
      "Epoch 14/40\n",
      "2310/2310 [==============================] - 33s - loss: 0.8103 - acc: 0.7701 - val_loss: 1.5264 - val_acc: 0.6303\n",
      "Epoch 15/40\n",
      "2310/2310 [==============================] - 34s - loss: 0.6089 - acc: 0.8273 - val_loss: 1.7080 - val_acc: 0.5818\n",
      "Epoch 16/40\n",
      "2310/2310 [==============================] - 34s - loss: 0.4787 - acc: 0.8558 - val_loss: 1.3412 - val_acc: 0.6697\n",
      "Epoch 17/40\n",
      "2310/2310 [==============================] - 38s - loss: 0.3461 - acc: 0.8926 - val_loss: 1.4212 - val_acc: 0.6667\n",
      "Epoch 18/40\n",
      "2310/2310 [==============================] - 38s - loss: 0.2025 - acc: 0.9407 - val_loss: 1.4490 - val_acc: 0.6879\n",
      "Epoch 19/40\n",
      "2310/2310 [==============================] - 46s - loss: 0.1562 - acc: 0.9576 - val_loss: 1.5040 - val_acc: 0.6939\n",
      "Epoch 20/40\n",
      "2310/2310 [==============================] - 42s - loss: 0.2035 - acc: 0.9519 - val_loss: 1.4277 - val_acc: 0.6879\n",
      "Epoch 21/40\n",
      "2310/2310 [==============================] - 42s - loss: 0.1021 - acc: 0.9727 - val_loss: 1.6787 - val_acc: 0.6758\n",
      "Epoch 22/40\n",
      "2310/2310 [==============================] - 40s - loss: 0.0879 - acc: 0.9775 - val_loss: 1.8324 - val_acc: 0.6970\n",
      "Epoch 23/40\n",
      "2310/2310 [==============================] - 44s - loss: 0.0834 - acc: 0.9792 - val_loss: 1.6494 - val_acc: 0.6939\n",
      "Epoch 24/40\n",
      "2310/2310 [==============================] - 51s - loss: 0.0248 - acc: 0.9948 - val_loss: 1.5916 - val_acc: 0.7182\n",
      "Epoch 25/40\n",
      "2310/2310 [==============================] - 33s - loss: 0.0126 - acc: 0.9974 - val_loss: 1.6757 - val_acc: 0.7303\n",
      "Epoch 26/40\n",
      "2310/2310 [==============================] - 31s - loss: 0.0062 - acc: 0.9987 - val_loss: 1.6254 - val_acc: 0.7455\n",
      "Epoch 27/40\n",
      "2310/2310 [==============================] - 32s - loss: 7.7267e-04 - acc: 1.0000 - val_loss: 1.6614 - val_acc: 0.7485\n",
      "Epoch 28/40\n",
      "2310/2310 [==============================] - 32s - loss: 4.7487e-04 - acc: 1.0000 - val_loss: 1.6882 - val_acc: 0.7455\n",
      "Epoch 29/40\n",
      "2310/2310 [==============================] - 32s - loss: 3.7147e-04 - acc: 1.0000 - val_loss: 1.7080 - val_acc: 0.7455\n",
      "Epoch 30/40\n",
      "2310/2310 [==============================] - 32s - loss: 3.0804e-04 - acc: 1.0000 - val_loss: 1.7255 - val_acc: 0.7455\n",
      "Epoch 31/40\n",
      "2310/2310 [==============================] - 31s - loss: 2.6419e-04 - acc: 1.0000 - val_loss: 1.7400 - val_acc: 0.7455\n",
      "Epoch 32/40\n",
      "2310/2310 [==============================] - 32s - loss: 2.3142e-04 - acc: 1.0000 - val_loss: 1.7560 - val_acc: 0.7424\n",
      "Epoch 33/40\n",
      "2310/2310 [==============================] - 32s - loss: 2.0673e-04 - acc: 1.0000 - val_loss: 1.7677 - val_acc: 0.7424\n",
      "Epoch 34/40\n",
      "2310/2310 [==============================] - 32s - loss: 1.8642e-04 - acc: 1.0000 - val_loss: 1.7787 - val_acc: 0.7424\n",
      "Epoch 35/40\n",
      "2310/2310 [==============================] - 31s - loss: 1.6989e-04 - acc: 1.0000 - val_loss: 1.7890 - val_acc: 0.7424\n",
      "Epoch 36/40\n",
      "2310/2310 [==============================] - 31s - loss: 1.5604e-04 - acc: 1.0000 - val_loss: 1.7980 - val_acc: 0.7424\n",
      "Epoch 37/40\n",
      "2310/2310 [==============================] - 32s - loss: 1.4432e-04 - acc: 1.0000 - val_loss: 1.8063 - val_acc: 0.7424\n",
      "Epoch 38/40\n",
      "2310/2310 [==============================] - 31s - loss: 1.3421e-04 - acc: 1.0000 - val_loss: 1.8141 - val_acc: 0.7424\n",
      "Epoch 39/40\n",
      "2310/2310 [==============================] - 32s - loss: 1.2534e-04 - acc: 1.0000 - val_loss: 1.8205 - val_acc: 0.7424\n",
      "Epoch 40/40\n",
      "2310/2310 [==============================] - 32s - loss: 1.1773e-04 - acc: 1.0000 - val_loss: 1.8276 - val_acc: 0.7424\n",
      "CNN Error: 25.76%\n"
     ]
    }
   ],
   "source": [
    "model = make_model()\n",
    "# Fit the model\n",
    "history = model.fit(X_train, y_train, validation_data=(X_test, y_test), epochs=40, batch_size=5)\n",
    "# Final evaluation of the model\n",
    "scores = model.evaluate(X_test, y_test, verbose=0)\n",
    "print(\"CNN Error: %.2f%%\" % (100-scores[1]*100))"
   ]
  },
  {
   "cell_type": "code",
   "execution_count": null,
   "metadata": {
    "collapsed": true
   },
   "outputs": [],
   "source": []
  }
 ],
 "metadata": {
  "kernelspec": {
   "display_name": "Python 3",
   "language": "python",
   "name": "python3"
  },
  "language_info": {
   "codemirror_mode": {
    "name": "ipython",
    "version": 3
   },
   "file_extension": ".py",
   "mimetype": "text/x-python",
   "name": "python",
   "nbconvert_exporter": "python",
   "pygments_lexer": "ipython3",
   "version": "3.5.3"
  }
 },
 "nbformat": 4,
 "nbformat_minor": 2
}
